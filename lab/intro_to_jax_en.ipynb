{
 "cells": [
  {
   "cell_type": "markdown",
   "id": "ebf8c85a-03c5-44a5-898b-aab57e5381b1",
   "metadata": {},
   "source": [
    "# Into the world of JAX\n",
    "\n",
    "## What is JAX?\n",
    "\n",
    "[JAX](https://github.com/google/jax) is the library which is for machine learning or numeric calculation in multiple dimensions with matrix. It is now currently actively developed by Google, for the research purpose of its team like [Google-research](https://github.com/n2cholas/awesome-jax) or [Deepmind](https://www.deepmind.com/blog/using-jax-to-accelerate-our-research).\n",
    "JAX is different from [Tensorflow](https://www.tensorflow.org/) or [PyTorch](https://pytorch.org/), which are introduced as 'deep-learning library'. \n",
    "\n",
    "JAX has some differences in:\n",
    "\n",
    "- JAX is stateless, not like Tensorflow or PyTorch\n",
    "- JIT(Just-In-Time Compile) is only for puristic functions.\n",
    "- It is easy to parallelize via using pmap or vmap\n",
    "\n",
    "Remember, JAX is not compatible with fully abstractized level deep learning programming, but only for its atomic operations like automatic differentiation and matrix(or tensor) calculations with multiple devices like GPUs or TPUs. If you want to code deep neural networks in easy manner, then try to use PyTorch, Tensorflow, [dm-haiku](https://github.com/deepmind/dm-haiku) or [flax](https://github.com/google/flax)."
   ]
  },
  {
   "cell_type": "markdown",
   "id": "2fd6bb11-1387-492a-8428-acb528d9428d",
   "metadata": {},
   "source": [
    "## Features of JAX\n",
    "\n",
    "### grad\n",
    "\n",
    "jax.grad gives you the derivative of the functions. Let's try to run under below code."
   ]
  },
  {
   "cell_type": "code",
   "execution_count": 4,
   "id": "0a5173b0-b609-41ab-a6b8-f6eab40705f7",
   "metadata": {},
   "outputs": [
    {
     "name": "stdin",
     "output_type": "stream",
     "text": [
      "input any number you want 13\n"
     ]
    },
    {
     "name": "stdout",
     "output_type": "stream",
     "text": [
      "169.0\n",
      "26.0\n"
     ]
    }
   ],
   "source": [
    "from jax import grad\n",
    "from jax import numpy as np\n",
    "\n",
    "def f(x):\n",
    "    return x ** 2\n",
    "\n",
    "df = grad(f)\n",
    "\n",
    "x = float(input(\"input any number you want\"))\n",
    "\n",
    "print(f(x)) # original function\n",
    "print(df(x)) # first derivative"
   ]
  },
  {
   "cell_type": "code",
   "execution_count": 18,
   "id": "8b79a916-2256-4dbf-8756-0839e3b8ec97",
   "metadata": {},
   "outputs": [
    {
     "name": "stdout",
     "output_type": "stream",
     "text": [
      "[ 0.  1.  4.  9. 16. 25. 36. 49. 64. 81.]\n",
      "[ 0.  2.  4.  6.  8. 10. 12. 14. 16. 18.]\n"
     ]
    }
   ],
   "source": [
    "from jax import grad\n",
    "from jax import numpy as np\n",
    "\n",
    "def f(x):\n",
    "    return x ** 2\n",
    "\n",
    "df = grad(f)\n",
    "\n",
    "x = np.arange(0, 10, dtype=np.float32) \n",
    "\n",
    "print(np.array([f(n) for n in x])) # original function\n",
    "print(np.array([df(n) for n in x])) # first derivative"
   ]
  },
  {
   "cell_type": "markdown",
   "id": "7c2b6ddc-7917-4285-b7c6-239a2c25fcc1",
   "metadata": {},
   "source": [
    "now try to see the graphical form of the original function and derivative function. "
   ]
  },
  {
   "cell_type": "code",
   "execution_count": 19,
   "id": "e78445ea-1281-40de-949f-d65080424fa6",
   "metadata": {},
   "outputs": [
    {
     "data": {
      "text/plain": [
       "<matplotlib.legend.Legend at 0x7f749af13850>"
      ]
     },
     "execution_count": 19,
     "metadata": {},
     "output_type": "execute_result"
    },
    {
     "data": {
      "image/png": "[encoded data removed]",
      "text/plain": [
       "<Figure size 640x480 with 1 Axes>"
      ]
     },
     "metadata": {},
     "output_type": "display_data"
    }
   ],
   "source": [
    "import matplotlib.pyplot as plt\n",
    "\n",
    "# pre-calculated derivative of x^2\n",
    "\n",
    "def g(x):\n",
    "    return 2 * x\n",
    "\n",
    "\n",
    "x = np.linspace(start=0, stop=10)\n",
    "\n",
    "\n",
    "plt.plot(x, np.array([f(n) for n in x]), label='x^2')\n",
    "plt.plot(x, np.array([df(n) for n in x]), label='Derivative of x^2')\n",
    "plt.plot(x, np.array([g(n) for n in x]), label='2x')\n",
    "plt.legend()"
   ]
  },
  {
   "cell_type": "markdown",
   "id": "a99c8e59-ea4f-4ac4-934e-e9f3f1c7febf",
   "metadata": {},
   "source": [
    "## vmap\n",
    "\n",
    "In above, we run the function as lambda form, but it is quite bothering stuff to make. So I has tried to run with vector form.\n",
    "But if you run this function with vector as input like ```np.arange(0, 10, dtype=np.float32)```, it will throw an error. \n"
   ]
  },
  {
   "cell_type": "code",
   "execution_count": 23,
   "id": "77d233aa-571a-4736-a2ab-e5abb75ba28a",
   "metadata": {},
   "outputs": [
    {
     "name": "stdout",
     "output_type": "stream",
     "text": [
      "[ 0.  1.  4.  9. 16. 25. 36. 49. 64. 81.]\n"
     ]
    },
    {
     "ename": "TypeError",
     "evalue": "Gradient only defined for scalar-output functions. Output had shape: (10,).",
     "output_type": "error",
     "traceback": [
      "\u001b[0;31m---------------------------------------------------------------------------\u001b[0m",
      "\u001b[0;31mTypeError\u001b[0m                                 Traceback (most recent call last)",
      "Cell \u001b[0;32mIn[23], line 4\u001b[0m\n\u001b[1;32m      1\u001b[0m x \u001b[38;5;241m=\u001b[39m np\u001b[38;5;241m.\u001b[39marange(\u001b[38;5;241m0\u001b[39m, \u001b[38;5;241m10\u001b[39m, dtype\u001b[38;5;241m=\u001b[39mnp\u001b[38;5;241m.\u001b[39mfloat32) \n\u001b[1;32m      3\u001b[0m \u001b[38;5;28mprint\u001b[39m(f(x)) \u001b[38;5;66;03m# original function\u001b[39;00m\n\u001b[0;32m----> 4\u001b[0m \u001b[38;5;28mprint\u001b[39m(\u001b[43mdf\u001b[49m\u001b[43m(\u001b[49m\u001b[43mx\u001b[49m\u001b[43m)\u001b[49m) \u001b[38;5;66;03m# first derivative, error will occur\u001b[39;00m\n",
      "    \u001b[0;31m[... skipping hidden 4 frame]\u001b[0m\n",
      "File \u001b[0;32m~/.local/lib/python3.11/site-packages/jax/_src/api.py:765\u001b[0m, in \u001b[0;36m_check_scalar\u001b[0;34m(x)\u001b[0m\n\u001b[1;32m    763\u001b[0m \u001b[38;5;28;01mif\u001b[39;00m \u001b[38;5;28misinstance\u001b[39m(aval, ShapedArray):\n\u001b[1;32m    764\u001b[0m   \u001b[38;5;28;01mif\u001b[39;00m aval\u001b[38;5;241m.\u001b[39mshape \u001b[38;5;241m!=\u001b[39m ():\n\u001b[0;32m--> 765\u001b[0m     \u001b[38;5;28;01mraise\u001b[39;00m \u001b[38;5;167;01mTypeError\u001b[39;00m(msg(\u001b[38;5;124mf\u001b[39m\u001b[38;5;124m\"\u001b[39m\u001b[38;5;124mhad shape: \u001b[39m\u001b[38;5;132;01m{\u001b[39;00maval\u001b[38;5;241m.\u001b[39mshape\u001b[38;5;132;01m}\u001b[39;00m\u001b[38;5;124m\"\u001b[39m))\n\u001b[1;32m    766\u001b[0m \u001b[38;5;28;01melse\u001b[39;00m:\n\u001b[1;32m    767\u001b[0m   \u001b[38;5;28;01mraise\u001b[39;00m \u001b[38;5;167;01mTypeError\u001b[39;00m(msg(\u001b[38;5;124mf\u001b[39m\u001b[38;5;124m\"\u001b[39m\u001b[38;5;124mhad abstract value \u001b[39m\u001b[38;5;132;01m{\u001b[39;00maval\u001b[38;5;132;01m}\u001b[39;00m\u001b[38;5;124m\"\u001b[39m))\n",
      "\u001b[0;31mTypeError\u001b[0m: Gradient only defined for scalar-output functions. Output had shape: (10,)."
     ]
    }
   ],
   "source": [
    "x = np.arange(0, 10, dtype=np.float32) \n",
    "\n",
    "print(f(x)) # original function\n",
    "print(df(x)) # first derivative, error will occur"
   ]
  },
  {
   "cell_type": "markdown",
   "id": "993a53d4-9714-4fdd-a7bc-bd41355c0b06",
   "metadata": {},
   "source": [
    "```jax.grad``` function only supports the scalar output. This is the reason why you should use ```jax.vmap``` on vectorised form."
   ]
  },
  {
   "cell_type": "code",
   "execution_count": 24,
   "id": "9ac2aa4e-42a6-4ee9-878b-2ba2f33b5a9c",
   "metadata": {},
   "outputs": [
    {
     "name": "stdout",
     "output_type": "stream",
     "text": [
      "[ 0.  1.  4.  9. 16. 25. 36. 49. 64. 81.]\n",
      "[ 0.  2.  4.  6.  8. 10. 12. 14. 16. 18.]\n"
     ]
    }
   ],
   "source": [
    "from jax import vmap # for calculating in vectorised form\n",
    "\n",
    "df_vect = vmap(df)\n",
    "x = np.arange(0, 10, dtype=np.float32) \n",
    "\n",
    "print(f(x)) # original function\n",
    "print(df_vect(x)) # first derivative, vectorised form"
   ]
  },
  {
   "cell_type": "markdown",
   "id": "56780f0a-516e-4a16-bf9c-909607e11848",
   "metadata": {},
   "source": [
    "It works! vmap is not only for calculating the grad function as vectorised, but it can be applied into multiple functions needed to be vectorised like matrix multiplication. "
   ]
  },
  {
   "cell_type": "markdown",
   "id": "5b2115b4-cf5b-4c68-81df-9afde50b53fd",
   "metadata": {},
   "source": [
    "## JIT(Just-In-Time compile)\n",
    "Just In time compilation will allow huge increases of calculation speed. Let's check!"
   ]
  },
  {
   "cell_type": "code",
   "execution_count": 35,
   "id": "6a4f9229-ce23-437d-98c2-2cc778ccd6e6",
   "metadata": {
    "scrolled": true
   },
   "outputs": [
    {
     "name": "stdout",
     "output_type": "stream",
     "text": [
      "2.89 ms ± 816 µs per loop (mean ± std. dev. of 10 runs, 1,000 loops each)\n",
      "617 µs ± 107 µs per loop (mean ± std. dev. of 10 runs, 1,000 loops each)\n"
     ]
    }
   ],
   "source": [
    "from jax import jit\n",
    "\n",
    "def sigmoid(x):\n",
    "    return 1 / (1 + np.exp(-x))\n",
    "\n",
    "sigmoid_jit = jit(sigmoid)\n",
    "\n",
    "x = np.linspace(-1, 1, 1000000, dtype=np.float32)\n",
    "\n",
    "%timeit -r 10 sigmoid(x)\n",
    "%timeit -r 10 sigmoid_jit(x)\n"
   ]
  },
  {
   "cell_type": "markdown",
   "id": "82904459-42fc-4bfb-af88-4ad4cf76f8ca",
   "metadata": {},
   "source": [
    "It shows almost 4x faster performance! will be continued ..."
   ]
  },
  {
   "cell_type": "markdown",
   "id": "c45fb4ab-7dd9-4236-9f2f-a9daff51ffbe",
   "metadata": {},
   "source": [
    "### Copyright\n",
    "\n",
    "Copyright 2023, Dongyeong Kim\n",
    "\n",
    "Permission is hereby granted, free of charge, to any person obtaining a copy of this software and associated documentation files (the \"Software\"), to deal in the Software without restriction, including without limitation the rights to use, copy, modify, merge, publish, distribute, sublicense, and/or sell copies of the Software, and to permit persons to whom the Software is furnished to do so, subject to the following conditions:\n",
    "\n",
    "The above copyright notice and this permission notice shall be included in all copies or substantial portions of the Software.\n",
    "\n",
    "THE SOFTWARE IS PROVIDED \"AS IS\", WITHOUT WARRANTY OF ANY KIND, EXPRESS OR IMPLIED, INCLUDING BUT NOT LIMITED TO THE WARRANTIES OF MERCHANTABILITY, FITNESS FOR A PARTICULAR PURPOSE AND NONINFRINGEMENT. IN NO EVENT SHALL THE AUTHORS OR COPYRIGHT HOLDERS BE LIABLE FOR ANY CLAIM, DAMAGES OR OTHER LIABILITY, WHETHER IN AN ACTION OF CONTRACT, TORT OR OTHERWISE, ARISING FROM, OUT OF OR IN CONNECTION WITH THE SOFTWARE OR THE USE OR OTHER DEALINGS IN THE SOFTWARE."
   ]
  }
 ],
 "metadata": {
  "kernelspec": {
   "display_name": "Python 3 (ipykernel)",
   "language": "python",
   "name": "python3"
  },
  "language_info": {
   "codemirror_mode": {
    "name": "ipython",
    "version": 3
   },
   "file_extension": ".py",
   "mimetype": "text/x-python",
   "name": "python",
   "nbconvert_exporter": "python",
   "pygments_lexer": "ipython3",
   "version": "3.11.4"
  }
 },
 "nbformat": 4,
 "nbformat_minor": 5
}
