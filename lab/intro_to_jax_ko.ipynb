{
 "cells": [
  {
   "cell_type": "markdown",
   "id": "ebf8c85a-03c5-44a5-898b-aab57e5381b1",
   "metadata": {},
   "source": [
    "# JAX의 세계속으로\n",
    "\n",
    "## JAX란?\n",
    "\n",
    "[JAX](https://github.com/google/jax)는 구글에서 새로 개발되고 있는 수치연산 및 머신러닝용 라이브러리입니다. 현재 구글 및 딥마인드에서 수행하는 많은 연구가 JAX를 기반으로 하고 있습니다.[1](https://github.com/n2cholas/awesome-jax) [2](https://www.deepmind.com/blog/using-jax-to-accelerate-our-research)\n",
    "JAX는 [Tensorflow](https://www.tensorflow.org/)나 [PyTorch](https://pytorch.org/)와 같은 일반적인 딥러닝 라이브러리와는 다른 다음과 같은 특징을 가지고 있습니다. \n",
    "\n",
    "- JAX는 Tensorflow나 PyTorch와 다르게 Stateless합니다.\n",
    "- JAX의 JIT(Just-In-Time compile)은 순수함수에 대해서만 제공됩니다.\n",
    "- pmap 및 vmap을 통해서 병렬화하기에 용이합니다. \n",
    "\n",
    "JAX 자체는 Tensorflow나 PyTorch와는 다르게 그 자체로 딥러닝을 위해 제공되는 것이 아닙니다. 딥러닝을 조금 더 추상적인 수준에서 하고 싶다면 딥마인드의 [Haiku](https://github.com/deepmind/dm-haiku)나 구글의 [Flax](https://github.com/google/flax)를 참조하세요. \n"
   ]
  },
  {
   "cell_type": "markdown",
   "id": "351b91c3-2275-4454-b4bb-b5041a0bed71",
   "metadata": {},
   "source": [
    "## JAX의 특징들\n",
    "### grad(미분연산 엔진)\n",
    "jax,grad는 어떤 함수의 미분값을 반환하는 함수(도함수)로 만들어줍니다. 다음 코드를 실행해 봅시다. "
   ]
  },
  {
   "cell_type": "code",
   "execution_count": 3,
   "id": "8d00591b-5649-4525-8470-d79fe799efaa",
   "metadata": {},
   "outputs": [
    {
     "name": "stdin",
     "output_type": "stream",
     "text": [
      "임의의 수를 입력해보세요 13\n"
     ]
    },
    {
     "name": "stdout",
     "output_type": "stream",
     "text": [
      "169.0\n",
      "26.0\n"
     ]
    }
   ],
   "source": [
    "from jax import grad\n",
    "from jax import numpy as np\n",
    "\n",
    "def f(x):\n",
    "    return x ** 2\n",
    "\n",
    "df = grad(f)\n",
    "\n",
    "x = float(input(\"임의의 수를 입력해보세요\"))\n",
    "\n",
    "print(f(x)) # 원함수\n",
    "print(df(x)) # 도함수"
   ]
  },
  {
   "cell_type": "code",
   "execution_count": 5,
   "id": "f8fce63f-99d3-49c8-8a66-aa814b58c486",
   "metadata": {},
   "outputs": [
    {
     "name": "stdout",
     "output_type": "stream",
     "text": [
      "[ 0.  1.  4.  9. 16. 25. 36. 49. 64. 81.]\n",
      "[ 0.  2.  4.  6.  8. 10. 12. 14. 16. 18.]\n"
     ]
    }
   ],
   "source": [
    "from jax import grad\n",
    "from jax import numpy as np\n",
    "\n",
    "def f(x):\n",
    "    return x ** 2\n",
    "\n",
    "df = grad(f)\n",
    "\n",
    "x = np.arange(0, 10, dtype=np.float32) \n",
    "\n",
    "print(np.array([f(n) for n in x])) # 원함수\n",
    "print(np.array([df(n) for n in x])) # 도함수"
   ]
  },
  {
   "cell_type": "code",
   "execution_count": 6,
   "id": "0bb94b40-ae26-46fb-8f1e-d3753002f3ca",
   "metadata": {},
   "outputs": [
    {
     "data": {
      "text/plain": [
       "<matplotlib.legend.Legend at 0x7faef47e5f10>"
      ]
     },
     "execution_count": 6,
     "metadata": {},
     "output_type": "execute_result"
    },
    {
     "data": {
      "image/png": "[encoded data removed]",
      "text/plain": [
       "<Figure size 640x480 with 1 Axes>"
      ]
     },
     "metadata": {},
     "output_type": "display_data"
    }
   ],
   "source": [
    "import matplotlib.pyplot as plt\n",
    "\n",
    "# 한글 세팅\n",
    "plt.rc('font', family='NanumGothic')\n",
    "\n",
    "\n",
    "# 미리 정의된 x^의 도함수 -> 2x\n",
    "\n",
    "def g(x):\n",
    "    return 2 * x\n",
    "\n",
    "\n",
    "x = np.linspace(start=0, stop=10)\n",
    "\n",
    "\n",
    "plt.plot(x, np.array([f(n) for n in x]), label='x^2')\n",
    "plt.plot(x, np.array([df(n) for n in x]), label='x^2의 도함수')\n",
    "plt.plot(x, np.array([g(n) for n in x]), label='2x')\n",
    "plt.legend()"
   ]
  },
  {
   "cell_type": "markdown",
   "id": "6546238e-6d69-411d-b8e9-96a0e1251b5a",
   "metadata": {},
   "source": [
    "### vmap(벡터화 함수)\n",
    "위에서 미분값을 계산하기 위해서 람다 형식을 사용했지만, 실제 이렇게 사용하기에는 귀찮은 점이 많습니다. 그래서 벡터 형식으로 실행하려고 입력값을 ```np.arange(0, 10, dtype=np.float32)```로 설정하고 연산을 시도한다면 다음과 같은 에러와 마주하게 될 것입니다."
   ]
  },
  {
   "cell_type": "code",
   "execution_count": 7,
   "id": "e8b43190-c2ba-4602-91c2-306077105638",
   "metadata": {
    "scrolled": true
   },
   "outputs": [
    {
     "name": "stdout",
     "output_type": "stream",
     "text": [
      "[ 0.  1.  4.  9. 16. 25. 36. 49. 64. 81.]\n"
     ]
    },
    {
     "ename": "TypeError",
     "evalue": "Gradient only defined for scalar-output functions. Output had shape: (10,).",
     "output_type": "error",
     "traceback": [
      "\u001b[0;31m---------------------------------------------------------------------------\u001b[0m",
      "\u001b[0;31mTypeError\u001b[0m                                 Traceback (most recent call last)",
      "Cell \u001b[0;32mIn[7], line 4\u001b[0m\n\u001b[1;32m      1\u001b[0m x \u001b[38;5;241m=\u001b[39m np\u001b[38;5;241m.\u001b[39marange(\u001b[38;5;241m0\u001b[39m, \u001b[38;5;241m10\u001b[39m, dtype\u001b[38;5;241m=\u001b[39mnp\u001b[38;5;241m.\u001b[39mfloat32) \n\u001b[1;32m      3\u001b[0m \u001b[38;5;28mprint\u001b[39m(f(x)) \u001b[38;5;66;03m# original function\u001b[39;00m\n\u001b[0;32m----> 4\u001b[0m \u001b[38;5;28mprint\u001b[39m(\u001b[43mdf\u001b[49m\u001b[43m(\u001b[49m\u001b[43mx\u001b[49m\u001b[43m)\u001b[49m) \u001b[38;5;66;03m# first derivative, error will occur\u001b[39;00m\n",
      "    \u001b[0;31m[... skipping hidden 4 frame]\u001b[0m\n",
      "File \u001b[0;32m~/.local/lib/python3.11/site-packages/jax/_src/api.py:765\u001b[0m, in \u001b[0;36m_check_scalar\u001b[0;34m(x)\u001b[0m\n\u001b[1;32m    763\u001b[0m \u001b[38;5;28;01mif\u001b[39;00m \u001b[38;5;28misinstance\u001b[39m(aval, ShapedArray):\n\u001b[1;32m    764\u001b[0m   \u001b[38;5;28;01mif\u001b[39;00m aval\u001b[38;5;241m.\u001b[39mshape \u001b[38;5;241m!=\u001b[39m ():\n\u001b[0;32m--> 765\u001b[0m     \u001b[38;5;28;01mraise\u001b[39;00m \u001b[38;5;167;01mTypeError\u001b[39;00m(msg(\u001b[38;5;124mf\u001b[39m\u001b[38;5;124m\"\u001b[39m\u001b[38;5;124mhad shape: \u001b[39m\u001b[38;5;132;01m{\u001b[39;00maval\u001b[38;5;241m.\u001b[39mshape\u001b[38;5;132;01m}\u001b[39;00m\u001b[38;5;124m\"\u001b[39m))\n\u001b[1;32m    766\u001b[0m \u001b[38;5;28;01melse\u001b[39;00m:\n\u001b[1;32m    767\u001b[0m   \u001b[38;5;28;01mraise\u001b[39;00m \u001b[38;5;167;01mTypeError\u001b[39;00m(msg(\u001b[38;5;124mf\u001b[39m\u001b[38;5;124m\"\u001b[39m\u001b[38;5;124mhad abstract value \u001b[39m\u001b[38;5;132;01m{\u001b[39;00maval\u001b[38;5;132;01m}\u001b[39;00m\u001b[38;5;124m\"\u001b[39m))\n",
      "\u001b[0;31mTypeError\u001b[0m: Gradient only defined for scalar-output functions. Output had shape: (10,)."
     ]
    }
   ],
   "source": [
    "x = np.arange(0, 10, dtype=np.float32) \n",
    "\n",
    "print(f(x)) # 원함수\n",
    "print(df(x)) # 벡터화되지 않은 도함수"
   ]
  },
  {
   "cell_type": "markdown",
   "id": "6aceff3b-fb66-4d1f-960a-9086c537f542",
   "metadata": {},
   "source": [
    "```jax.grad``` 함수는 스칼라 출력에 대해서만 연산을 지원합니다. 이 이유가 바로 왜 ```jax.vmap```을 써야하는 지 보여줍니다. 한 번 적용해보겠습니다. "
   ]
  },
  {
   "cell_type": "code",
   "execution_count": 8,
   "id": "a51dbc86-8bb5-4ad4-8ee4-ff69044af8b1",
   "metadata": {},
   "outputs": [
    {
     "name": "stdout",
     "output_type": "stream",
     "text": [
      "[ 0.  1.  4.  9. 16. 25. 36. 49. 64. 81.]\n",
      "[ 0.  2.  4.  6.  8. 10. 12. 14. 16. 18.]\n"
     ]
    }
   ],
   "source": [
    "from jax import vmap # for calculating in vectorised form\n",
    "\n",
    "df_vect = vmap(df)\n",
    "x = np.arange(0, 10, dtype=np.float32) \n",
    "\n",
    "print(f(x)) # 원함수\n",
    "print(df_vect(x)) # 벡터화된 도함수"
   ]
  },
  {
   "cell_type": "markdown",
   "id": "65975f9a-b828-4aae-af24-5b9d51667799",
   "metadata": {},
   "source": [
    "연산이 잘되네요! vmap은 단순히 grad 함수의 연산을 벡터화할 뿐만 아니라 행렬연산과 같은 함수들의 벡터화를 하는 것에도 사용됩니다. "
   ]
  },
  {
   "cell_type": "markdown",
   "id": "d1c630a4-4966-4662-9d40-1ec5cfe710b8",
   "metadata": {},
   "source": [
    "### JIT(Just-In-Time 컴파일)\n",
    "\n",
    "Just In Time 컴파일(실행시 컴파일)은 연산속도의 상당한 향상을 만들 수 있습니다. 한 번 확인해보죠!"
   ]
  },
  {
   "cell_type": "code",
   "execution_count": 10,
   "id": "d6fe4ccd-8b1d-40ff-ad84-e9c0d11e7920",
   "metadata": {},
   "outputs": [
    {
     "name": "stdout",
     "output_type": "stream",
     "text": [
      "1.54 ms ± 23.1 µs per loop (mean ± std. dev. of 10 runs, 1,000 loops each)\n",
      "221 µs ± 12.5 µs per loop (mean ± std. dev. of 10 runs, 1,000 loops each)\n"
     ]
    }
   ],
   "source": [
    "from jax import jit\n",
    "\n",
    "def sigmoid(x):\n",
    "    return 1 / (1 + np.exp(-x))\n",
    "\n",
    "sigmoid_jit = jit(sigmoid)\n",
    "\n",
    "x = np.linspace(-1, 1, 1000000, dtype=np.float32)\n",
    "\n",
    "%timeit -r 10 sigmoid(x)\n",
    "%timeit -r 10 sigmoid_jit(x)"
   ]
  },
  {
   "cell_type": "markdown",
   "id": "f96af8b8-472e-42a1-82fb-57c98c0a7325",
   "metadata": {},
   "source": [
    "거의 6~7배의 성능향상을 보여주네요. (실행환경마다 속도는 상이할 수 있습니다.) 하지만 이렇게 jitting(실행시 컴파일) 하는 것은 순수형 함수에 대해서만 적용됩니다. 아닌 예시를 한 번 살펴보죠. "
   ]
  },
  {
   "cell_type": "code",
   "execution_count": 11,
   "id": "50873084-08dd-4311-8443-f054388ac5ad",
   "metadata": {
    "scrolled": true
   },
   "outputs": [
    {
     "name": "stdout",
     "output_type": "stream",
     "text": [
      "실행시 컴파일이 적용된 함수의 출력값: 0\n",
      "실행시 컴파일이 적용되지 않은 함수의 출력값: 0\n",
      "실행시 컴파일이 적용된 함수의 출력값: 1\n",
      "실행시 컴파일이 적용되지 않은 함수의 출력값: 2\n",
      "실행시 컴파일이 적용된 함수의 출력값: 2\n",
      "실행시 컴파일이 적용되지 않은 함수의 출력값: 4\n"
     ]
    }
   ],
   "source": [
    "from jax import jit\n",
    "\n",
    "y = 0\n",
    "\n",
    "@jit\n",
    "def jit_test_func(x): # 실행시 컴파일이 적용된 함수\n",
    "    return x+y\n",
    "\n",
    "def nonjit_test_func(x): # 실행시 컴파일이 적용되지 않은 함수\n",
    "    return x+y\n",
    "\n",
    "for i in range(3):\n",
    "    print(f\"실행시 컴파일이 적용된 함수의 출력값: {jit_test_func(i)}\")\n",
    "    print(f\"실행시 컴파일이 적용되지 않은 함수의 출력값: {nonjit_test_func(i)}\")\n",
    "    y += 1"
   ]
  },
  {
   "cell_type": "markdown",
   "id": "4561c346-a0db-4eab-b0a2-ba6b74c12c4f",
   "metadata": {},
   "source": [
    "보시다시피 전역변수 y의 값이 반영되지 않는다는 것을 확인할 수 있습니다. y를 적용하고 싶은 경우 함수의 입력으로서 y를 추가해야 합니다. 추가한 예시를 보겠습니다. "
   ]
  },
  {
   "cell_type": "code",
   "execution_count": 12,
   "id": "c18efa22-7c61-4414-936b-d847de67f309",
   "metadata": {},
   "outputs": [
    {
     "name": "stdout",
     "output_type": "stream",
     "text": [
      "실행시 컴파일이 적용되었으며, 연산에 사용되는 모든 입력을 함수의 입력으로 받는 함수의 출력값: 0\n",
      "실행시 컴파일이 적용되지 않는 함수의 출력값: 0\n",
      "실행시 컴파일이 적용되었으며, 연산에 사용되는 모든 입력을 함수의 입력으로 받는 함수의 출력값: 2\n",
      "실행시 컴파일이 적용되지 않는 함수의 출력값: 2\n",
      "실행시 컴파일이 적용되었으며, 연산에 사용되는 모든 입력을 함수의 입력으로 받는 함수의 출력값: 4\n",
      "실행시 컴파일이 적용되지 않는 함수의 출력값: 4\n"
     ]
    }
   ],
   "source": [
    "from jax import jit\n",
    "\n",
    "y = 0\n",
    "\n",
    "@jit\n",
    "def correctly_jitted_test_func(x, y): # 실행시 컴파일이 적용되었으며, 연산에 사용되는 모든 입력을 함수의 입력으로 받는 함수\n",
    "    return x+y\n",
    "\n",
    "def nonjit_test_func(x): # 실행시 컴파일이 적용되지 않은 함수\n",
    "    return x+y\n",
    "\n",
    "for i in range(3):\n",
    "    print(f\"실행시 컴파일이 적용되었으며, 연산에 사용되는 모든 입력을 함수의 입력으로 받는 함수의 출력값: {correctly_jitted_test_func(i, y)}\")\n",
    "    print(f\"실행시 컴파일이 적용되지 않는 함수의 출력값: {nonjit_test_func(i)}\")\n",
    "    y += 1\n",
    "    "
   ]
  },
  {
   "cell_type": "markdown",
   "id": "ac42eae1-22c5-4cf5-9424-914dd3f27ee0",
   "metadata": {},
   "source": [
    "잘 되네요!"
   ]
  },
  {
   "cell_type": "markdown",
   "id": "8c34faac-1c8f-43fe-b70c-c076ea79d359",
   "metadata": {},
   "source": [
    "### PRNG(Pseudo Random Number Generation; 의사난수 생성)\n",
    "\n",
    "JAX에서 꽤나 중요하게 기억해야 할 것은 JAX의 랜덤 패키지가 Numpy나 PyTorch와 같은 일반적인 라이브러리와 다르게 시드값이 필요함을 강제하고 있다는 것입니다. 불편하게 여겨질 수도 있지만, 이는 다른 사람들로 하여금 더 쉽게 결과를 재현할 수 있도록 도와줍니다. 키를 어떻게 사용하는 지 보겠습니다.  "
   ]
  },
  {
   "cell_type": "code",
   "execution_count": 13,
   "id": "9e37a62e-e816-48d4-a631-98de74f8ef03",
   "metadata": {},
   "outputs": [
    {
     "name": "stdout",
     "output_type": "stream",
     "text": [
      "[ 0 42]\n",
      "-0.18471177\n",
      "-0.18471177\n"
     ]
    }
   ],
   "source": [
    "# 이 코드는 https://jax.readthedocs.io/en/latest/jax-101/05-random-numbers.html에서 비롯되었습니다. \n",
    "\n",
    "from jax import random\n",
    "\n",
    "key = random.PRNGKey(42)\n",
    "\n",
    "print(key)\n",
    "\n",
    "print(random.normal(key))\n",
    "print(random.normal(key))"
   ]
  },
  {
   "cell_type": "markdown",
   "id": "d79a196f-10d5-41d4-8077-21e5c34c3de3",
   "metadata": {},
   "source": [
    "랜덤으로 어떤 수를 생성하는 과정은 시드를 선택하는 것에서 시작합니다. 시드의 값을 다른 랜덤 라이브러리를 사용해 다른 값을 뽑는 것도 가능하지만, JAX는 내부적으로 'subkey'를 뽑아 다른 수를 뽑을 수 있게끔 합니다. 어떻게 사용하는 지 보겠습니다."
   ]
  },
  {
   "cell_type": "code",
   "execution_count": 14,
   "id": "b5e790b6-8d8e-4ea0-8b64-bc284ec770c7",
   "metadata": {},
   "outputs": [
    {
     "name": "stdout",
     "output_type": "stream",
     "text": [
      "원본 키: [ 0 42]\n",
      "정규분포에서 원본 키를 바탕으로 추출된 값: -0.1847117692232132\n",
      "원본키로 부터 추출된 서브 키: [255383827 267815257]\n",
      "정규분포에서 서브 키를 바탕으로 추출된 값: 1.369469404220581\n"
     ]
    }
   ],
   "source": [
    "# 이 코드는 https://jax.readthedocs.io/en/latest/jax-101/05-random-numbers.html에서 비롯되었습니다. \n",
    "\n",
    "from jax import random\n",
    "\n",
    "key = random.PRNGKey(42)\n",
    "\n",
    "print(f\"원본 키: {key}\")\n",
    "\n",
    "print(f\"정규분포에서 원본 키를 바탕으로 추출된 값: {random.normal(key)}\")\n",
    "\n",
    "newkey, subkey = random.split(key)\n",
    "\n",
    "print(f\"원본키로 부터 추출된 서브 키: {subkey}\")\n",
    "\n",
    "print(f\"정규분포에서 서브 키를 바탕으로 추출된 값: {random.normal(subkey)}\")"
   ]
  },
  {
   "cell_type": "markdown",
   "id": "fca7fa2f-ff2b-4533-a570-640a2b8cec83",
   "metadata": {},
   "source": [
    "결과를 재현하고 싶다면 같은 키를, 다른 값으로 샘플링하고 싶다면 다른 키를 사용하세요. "
   ]
  },
  {
   "cell_type": "markdown",
   "id": "aca41f02-f93f-487f-8ac3-e9d199b70368",
   "metadata": {},
   "source": [
    "첫 번째 챕터가 끝났습니다. 두 번째 챕터에서는 다양한 형태의 회귀를 다룰 예정입니다. 읽어주셔서 감사합니다!"
   ]
  },
  {
   "cell_type": "markdown",
   "id": "19a26797-5ed1-4d13-8da2-4831fc007ab1",
   "metadata": {},
   "source": [
    "### 참조\n",
    "- JAX 도큐멘테이션(https://jax.readthedocs.io/en/latest/index.html)"
   ]
  },
  {
   "cell_type": "markdown",
   "id": "c45fb4ab-7dd9-4236-9f2f-a9daff51ffbe",
   "metadata": {},
   "source": [
    "### 저작권\n",
    "\n",
    "Copyright 2023, 김동영\n",
    "\n",
    "이 문서에 기하여, 이 소프트웨어와, 이와 연관된 모든 문서(이하 ‘소프트웨어’라 한다)의 복제본을 보유하게 되는 모든 사용자에 대하여, 다음의 권한이 무상으로 부여된다. 소프트웨어의 사용, 복제, 변경, 통합, 발행, 배포, 재실시, 판매에 대한 제약을 포함한 어떠한 제약 없이 본 소프트웨어를 취급할 수 있으며, 이는 제3자에 대한 소프트웨어 지급시에도 동일하게 적용된다. 단, 이 모든 사항은 아래의 조건하에 적용된다.\n",
    "\n",
    "위 저작권 표시와 본 허가조항은 소프트웨어의 모든 복제본 혹은 중요한 부분에 포함되어야 한다.\n",
    "\n",
    "소프트웨어는 \"있는 그대로\" 제공된다. 판매적격성, 특정 용도에 대한 적합성, 준법성, 혹은 그 이상의 범위를 포함한 사항에 있어서, 명시적 혹은 묵시적인 어떠한 보증도 하지 않는다. 계약, 불법행위등의 과정상의 개입여부에 상관없이 어떠한 상황에서도, 본 소프트웨어의 저작자 혹은 저작권자는, 소프트웨어에서 혹은 소프트웨어와 연관되어 발생하는, 또한 사용과정중 혹은 기타 거래도중 발생하는 어떠한 소유권 청구, 피해, 혹은 기타 다른 법적 책임에 대해서도 책임을 지지 않는다."
   ]
  }
 ],
 "metadata": {
  "kernelspec": {
   "display_name": "Python 3 (ipykernel)",
   "language": "python",
   "name": "python3"
  },
  "language_info": {
   "codemirror_mode": {
    "name": "ipython",
    "version": 3
   },
   "file_extension": ".py",
   "mimetype": "text/x-python",
   "name": "python",
   "nbconvert_exporter": "python",
   "pygments_lexer": "ipython3",
   "version": "3.11.4"
  }
 },
 "nbformat": 4,
 "nbformat_minor": 5
}
