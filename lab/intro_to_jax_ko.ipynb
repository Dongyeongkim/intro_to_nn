{
 "cells": [
  {
   "cell_type": "markdown",
   "id": "ebf8c85a-03c5-44a5-898b-aab57e5381b1",
   "metadata": {},
   "source": [
    "# JAX의 세계속으로\n",
    "\n",
    "## JAX란?\n",
    "\n",
    "[JAX](https://github.com/google/jax)는 구글에서 새로 개발되고 있는 수치연산 및 머신러닝용 라이브러리입니다. 현재 구글 및 딥마인드에서 수행하는 많은 연구가 JAX를 기반으로 하고 있습니다.[1](https://github.com/n2cholas/awesome-jax) [2](https://www.deepmind.com/blog/using-jax-to-accelerate-our-research)\n",
    "JAX는 [Tensorflow](https://www.tensorflow.org/)나 [PyTorch](https://pytorch.org/)와 같은 일반적인 딥러닝 라이브러리와는 다른 다음과 같은 특징을 가지고 있습니다. \n",
    "\n",
    "- JAX는 Tensorflow나 PyTorch와 다르게 Stateless합니다.\n",
    "- JAX의 JIT(Just-In-Time compile)은 순수함수에 대해서만 제공됩니다.\n",
    "- pmap 및 vmap을 통해서 병렬화하기에 용이합니다. \n",
    "\n",
    "JAX 자체는 Tensorflow나 PyTorch와는 다르게 그 자체로 딥러닝을 위해 제공되는 것이 아닙니다. 딥러닝을 조금 더 추상적인 수준에서 하고 싶다면 딥마인드의 [Haiku](https://github.com/deepmind/dm-haiku)나 구글의 [Flax](https://github.com/google/flax)를 참조하세요. \n"
   ]
  },
  {
   "cell_type": "code",
   "execution_count": null,
   "id": "0a5173b0-b609-41ab-a6b8-f6eab40705f7",
   "metadata": {},
   "outputs": [],
   "source": []
  },
  {
   "cell_type": "markdown",
   "id": "c45fb4ab-7dd9-4236-9f2f-a9daff51ffbe",
   "metadata": {},
   "source": [
    "### 저작권\n",
    "\n",
    "Copyright 2023, 김동영\n",
    "\n",
    "이 문서에 기하여, 이 소프트웨어와, 이와 연관된 모든 문서(이하 ‘소프트웨어’라 한다)의 복제본을 보유하게 되는 모든 사용자에 대하여, 다음의 권한이 무상으로 부여된다. 소프트웨어의 사용, 복제, 변경, 통합, 발행, 배포, 재실시, 판매에 대한 제약을 포함한 어떠한 제약 없이 본 소프트웨어를 취급할 수 있으며, 이는 제3자에 대한 소프트웨어 지급시에도 동일하게 적용된다. 단, 이 모든 사항은 아래의 조건하에 적용된다.\n",
    "\n",
    "위 저작권 표시와 본 허가조항은 소프트웨어의 모든 복제본 혹은 중요한 부분에 포함되어야 한다.\n",
    "\n",
    "소프트웨어는 \"있는 그대로\" 제공된다. 판매적격성, 특정 용도에 대한 적합성, 준법성, 혹은 그 이상의 범위를 포함한 사항에 있어서, 명시적 혹은 묵시적인 어떠한 보증도 하지 않는다. 계약, 불법행위등의 과정상의 개입여부에 상관없이 어떠한 상황에서도, 본 소프트웨어의 저작자 혹은 저작권자는, 소프트웨어에서 혹은 소프트웨어와 연관되어 발생하는, 또한 사용과정중 혹은 기타 거래도중 발생하는 어떠한 소유권 청구, 피해, 혹은 기타 다른 법적 책임에 대해서도 책임을 지지 않는다."
   ]
  }
 ],
 "metadata": {
  "kernelspec": {
   "display_name": "Python 3 (ipykernel)",
   "language": "python",
   "name": "python3"
  },
  "language_info": {
   "codemirror_mode": {
    "name": "ipython",
    "version": 3
   },
   "file_extension": ".py",
   "mimetype": "text/x-python",
   "name": "python",
   "nbconvert_exporter": "python",
   "pygments_lexer": "ipython3",
   "version": "3.11.4"
  }
 },
 "nbformat": 4,
 "nbformat_minor": 5
}
